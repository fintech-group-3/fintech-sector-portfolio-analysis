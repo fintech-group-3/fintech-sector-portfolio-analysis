{
 "cells": [
  {
   "cell_type": "markdown",
   "id": "8d636052-2daa-4534-9321-46893749c2a8",
   "metadata": {},
   "source": [
    "# Fintech Sector Portfolio Analysis\n",
    "\n",
    "(Insert project description)"
   ]
  },
  {
   "cell_type": "code",
   "execution_count": 1,
   "id": "cfec4571-e1c5-410e-9a67-4de3c207717e",
   "metadata": {},
   "outputs": [],
   "source": [
    "import pandas as pd\n",
    "from pathlib import Path\n",
    "from MCForecastTools import MCSimulation"
   ]
  },
  {
   "cell_type": "markdown",
   "id": "ed7c27b1-5bda-45e7-8d60-6c4846d96f5d",
   "metadata": {},
   "source": [
    "## Collect and Clean Data"
   ]
  },
  {
   "cell_type": "code",
   "execution_count": null,
   "id": "a123fdcf-1971-418c-b283-a7904d61c830",
   "metadata": {},
   "outputs": [],
   "source": []
  },
  {
   "cell_type": "markdown",
   "id": "672460ce-c266-4aed-ae0c-71d7694b2f37",
   "metadata": {},
   "source": [
    "## Data Analysis and Calculations"
   ]
  },
  {
   "cell_type": "code",
   "execution_count": null,
   "id": "fc6686c8-0bab-4e77-a8a1-5d4bb8284804",
   "metadata": {},
   "outputs": [],
   "source": []
  },
  {
   "cell_type": "markdown",
   "id": "69fa0f57-0469-496d-9781-99d040c8892d",
   "metadata": {},
   "source": [
    "# Monte Carlo Simulations"
   ]
  },
  {
   "cell_type": "code",
   "execution_count": null,
   "id": "85ff7b84-654e-4030-98de-9b4b295030b8",
   "metadata": {},
   "outputs": [],
   "source": []
  }
 ],
 "metadata": {
  "kernelspec": {
   "display_name": "dev",
   "language": "python",
   "name": "dev"
  },
  "language_info": {
   "codemirror_mode": {
    "name": "ipython",
    "version": 3
   },
   "file_extension": ".py",
   "mimetype": "text/x-python",
   "name": "python",
   "nbconvert_exporter": "python",
   "pygments_lexer": "ipython3",
   "version": "3.7.13"
  }
 },
 "nbformat": 4,
 "nbformat_minor": 5
}
