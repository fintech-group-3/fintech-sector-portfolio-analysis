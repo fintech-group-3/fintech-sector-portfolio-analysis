{
 "cells": [
  {
   "cell_type": "markdown",
   "id": "8d636052-2daa-4534-9321-46893749c2a8",
   "metadata": {},
   "source": [
    "# Fintech Sector Portfolio Analysis\n",
    "\n",
    "(Insert project description)"
   ]
  },
  {
   "cell_type": "markdown",
   "id": "244394f0-aedb-464d-ac8c-34f8315ad392",
   "metadata": {},
   "source": [
    "(Insert table of contents with clickable anchor links)"
   ]
  },
  {
   "cell_type": "code",
   "execution_count": null,
   "id": "cfec4571-e1c5-410e-9a67-4de3c207717e",
   "metadata": {},
   "outputs": [],
   "source": [
    "import pandas as pd\n",
    "from pathlib import Path\n",
    "from MCForecastTools import MCSimulation\n",
    "import yfinance as yf\n",
    "import hvplot.pandas\n",
    "import warnings\n",
    "warnings.filterwarnings(\"ignore\")"
   ]
  },
  {
   "cell_type": "markdown",
   "id": "ed7c27b1-5bda-45e7-8d60-6c4846d96f5d",
   "metadata": {},
   "source": [
    "## Collect and Clean Data"
   ]
  },
  {
   "cell_type": "markdown",
   "id": "1accf42d-7353-44d4-a7fb-f7304f6c1313",
   "metadata": {},
   "source": [
    "### Create a function to generate a daily returns DataFrame for a given list of stocks within a fintech sector"
   ]
  },
  {
   "cell_type": "code",
   "execution_count": null,
   "id": "c67ca375-9ed5-4934-8e27-be64a65e29e2",
   "metadata": {},
   "outputs": [],
   "source": [
    "def get_daily_returns_df(yf_tickers, ticker_names, period):\n",
    "    \"\"\"\n",
    "    Returns a pandas DataFrame where each column are daily returns for the provided stocks. \n",
    "    Prints out each step of the data\n",
    "    \n",
    "    Parameters\n",
    "    ----------\n",
    "    yf_tickers: yfinance.Tickers()\n",
    "        a yfinance Tickers object containing desired stocks \n",
    "    ticker_names: list(str)\n",
    "        a python list of ticker strings, assumes that the length of the list is equal to the number of stocks in yf_tickers\n",
    "    period: str\n",
    "        a python string that correlates to yfinance.Tickers() period parameter (ex: '1d', '2m', '5y', etc.)\n",
    "        \n",
    "    Returns\n",
    "    -------\n",
    "    pandas.DataFrame\n",
    "        concatenated DataFrame with each stock's daily return data\n",
    "    \n",
    "    \"\"\"\n",
    "\n",
    "    stock_dfs = []\n",
    "    \n",
    "    # create pandas DataFrames for each stock in the yf ticker object, based on provided time period\n",
    "    for ticker in ticker_names:\n",
    "        stock_df = yf_tickers.tickers[ticker].history(period=period)\n",
    "        \n",
    "        # verify that the correct data was pulled\n",
    "        print(f'{ticker} DataFame')\n",
    "        display(stock_df.head())\n",
    "        display(stock_df.tail())\n",
    "        \n",
    "        # select only the close values for daily returns\n",
    "        stock_df = stock_df[['Close']]\n",
    "        \n",
    "        stock_dfs.append(stock_df)\n",
    "        \n",
    "    print('\\n')\n",
    "    \n",
    "    # concat the list of closing price DataFrames\n",
    "    daily_returns_df = pd.concat(stock_dfs, axis=1)\n",
    "    daily_returns_df.columns = ticker_names\n",
    "\n",
    "    # print out the concatenated DataFrame to verify correct closing price data\n",
    "    print(f'Closing price DataFrame for {ticker_names}')\n",
    "    display(daily_returns_df.head())\n",
    "    display(daily_returns_df.tail())\n",
    "    print('\\n')    \n",
    "\n",
    "    # convert closing prices to daily returns \n",
    "    daily_returns_df = daily_returns_df.pct_change().dropna()\n",
    "\n",
    "    # print final daily returns DataFrame\n",
    "    print(f'Daily returns DataFrame for {ticker_names}')\n",
    "    display(daily_returns_df.head())\n",
    "    display(daily_returns_df.tail())\n",
    "\n",
    "    return daily_returns_df"
   ]
  },
  {
   "cell_type": "code",
   "execution_count": null,
   "id": "bae5c735-a321-4348-a702-52c5534d967f",
   "metadata": {},
   "outputs": [],
   "source": [
    "# definte stock tickers for each sector \n",
    "paytech_ticker_names = ['PYPL', 'SQ', 'MA']\n",
    "lending_ticker_names = ['TREE', 'LC', 'BKI']\n",
    "banking_ticker_names = ['FISV', 'JKHY', 'FIS']"
   ]
  },
  {
   "cell_type": "markdown",
   "id": "63790ad2-9574-4820-8f3d-6be0d75b7495",
   "metadata": {},
   "source": [
    "### Get 5 years of data for Paytech sector - PayPal, Square, and MasterCard"
   ]
  },
  {
   "cell_type": "code",
   "execution_count": null,
   "id": "61028d66-6b0f-47c4-a282-f2ea5eb8a17a",
   "metadata": {},
   "outputs": [],
   "source": [
    "# create yfinance ticker object for paytech stocks\n",
    "paytech_tickers = yf.Tickers('pypl sq ma')\n",
    "\n",
    "# use tickers and 5 year period to get 5 years of paytech stock data \n",
    "paytech_daily_returns =  get_daily_returns_df(paytech_tickers, paytech_ticker_names, '5y')"
   ]
  },
  {
   "cell_type": "markdown",
   "id": "a86c2a58-0ae0-4770-af64-deaf45766bb3",
   "metadata": {},
   "source": [
    "### Get 5 years of data for Lending sector - LendingTree, LendingClub, Black Knight"
   ]
  },
  {
   "cell_type": "code",
   "execution_count": null,
   "id": "852d9b8d-042a-4855-9c18-bd8f50555f01",
   "metadata": {},
   "outputs": [],
   "source": [
    "# create yfinance ticker object for lending stocks\n",
    "lending_tickers = yf.Tickers('tree lc bki')\n",
    "\n",
    "# use tickers and 5 year period to get 5 years of lending stock data \n",
    "lending_daily_returns =  get_daily_returns_df(lending_tickers, lending_ticker_names, '5y')"
   ]
  },
  {
   "cell_type": "markdown",
   "id": "a39d37f1-9ce4-474a-9884-feac520cedf2",
   "metadata": {},
   "source": [
    "### Get 5 years of data for Banking sector - Fiserv, Jack Henry & Associates, FIS (Fidelity National Information Services)"
   ]
  },
  {
   "cell_type": "code",
   "execution_count": null,
   "id": "b36b9452-75aa-4231-b0d8-623cb607eaea",
   "metadata": {},
   "outputs": [],
   "source": [
    "# create yfinance ticker object for banking stocks\n",
    "banking_tickers = yf.Tickers('fisv jkhy fis')\n",
    "\n",
    "# use tickers and 5 year period to get 5 years of lending stock data \n",
    "banking_daily_returns = get_daily_returns_df(banking_tickers, banking_ticker_names, '5y')"
   ]
  },
  {
   "cell_type": "markdown",
   "id": "672460ce-c266-4aed-ae0c-71d7694b2f37",
   "metadata": {},
   "source": [
    "## Data Analysis and Calculations"
   ]
  },
  {
   "cell_type": "markdown",
   "id": "904408f5-4110-4af0-8f01-a9274173ceb8",
   "metadata": {},
   "source": [
    "### Plot the daily returns in composite graphs for each sector"
   ]
  },
  {
   "cell_type": "code",
   "execution_count": null,
   "id": "5734be16-c709-450d-8990-88c42444fc92",
   "metadata": {},
   "outputs": [],
   "source": [
    "paytech_daily_returns['PYPL'].hvplot(\n",
    "    title='PayPal Daily Returns 2017-2022',\n",
    "    frame_height=500,\n",
    "    frame_width=900\n",
    ") + paytech_daily_returns['SQ'].hvplot(\n",
    "    title='Square Daily Returns 2017-2022',\n",
    "    frame_height=500,\n",
    "    frame_width=900\n",
    ") + paytech_daily_returns['MA'].hvplot(\n",
    "    title='MasterCard Daily Returns 2017-2022',\n",
    "    frame_height=500,\n",
    "    frame_width=900\n",
    ")"
   ]
  },
  {
   "cell_type": "code",
   "execution_count": null,
   "id": "b22b6e51-2169-470b-a6df-4481281fee32",
   "metadata": {},
   "outputs": [],
   "source": [
    "lending_daily_returns['TREE'].hvplot(\n",
    "    title='LendingTree Daily Returns 2017-2022',\n",
    "    frame_height=500,\n",
    "    frame_width=900\n",
    ") + lending_daily_returns['LC'].hvplot(\n",
    "    title='LendingClub Daily Returns 2017-2022',\n",
    "    frame_height=500,\n",
    "    frame_width=900\n",
    ") + lending_daily_returns['BKI'].hvplot(\n",
    "    title='Black Knight Daily Returns 2017-2022',\n",
    "    frame_height=500,\n",
    "    frame_width=900\n",
    ")"
   ]
  },
  {
   "cell_type": "code",
   "execution_count": null,
   "id": "316ad885-6a26-421d-80d4-a0f71ccee98a",
   "metadata": {},
   "outputs": [],
   "source": [
    "banking_daily_returns['FISV'].hvplot(\n",
    "    title='Fiserv Daily Returns 2017-2022',\n",
    "    frame_height=500,\n",
    "    frame_width=900\n",
    ") + banking_daily_returns['JKHY'].hvplot(\n",
    "    title='Jack Henry & Associates Daily Returns 2017-2022',\n",
    "    frame_height=500,\n",
    "    frame_width=900\n",
    ") + banking_daily_returns['FIS'].hvplot(\n",
    "    title='FIS Daily Returns 2017-2022',\n",
    "    frame_height=500,\n",
    "    frame_width=900\n",
    ")"
   ]
  },
  {
   "cell_type": "markdown",
   "id": "f024d093-28bc-4b2f-a897-b8eb8fd210d9",
   "metadata": {},
   "source": [
    "## Calculate and plot the cumulative returns of each sector "
   ]
  },
  {
   "cell_type": "code",
   "execution_count": null,
   "id": "c55490a4-88ee-4269-a037-4b085faaa8e4",
   "metadata": {},
   "outputs": [],
   "source": [
    "paytech_cumulative_returns = (1 + paytech_daily_returns).cumprod()\n",
    "lending_cumulative_returns = (1 + lending_daily_returns).cumprod()\n",
    "banking_cumulative_returns = (1 + banking_daily_returns).cumprod()"
   ]
  },
  {
   "cell_type": "code",
   "execution_count": null,
   "id": "6fa262ff-fc85-4281-bf2c-cdc2d52cd476",
   "metadata": {},
   "outputs": [],
   "source": [
    "paytech_cumulative_plot = paytech_cumulative_returns.hvplot(\n",
    "    title='Paytech (PayPal, Square, MasterCard) Cumulative Returns 2017-2022',\n",
    "    frame_width=1000,\n",
    "    frame_height=600,\n",
    "    group_label='Stock Ticker'\n",
    ")\n",
    "\n",
    "paytech_cumulative_plot"
   ]
  },
  {
   "cell_type": "code",
   "execution_count": null,
   "id": "f07e1c22-4225-4027-afd0-7db2442d6f06",
   "metadata": {},
   "outputs": [],
   "source": [
    "lending_cumulative_plot = lending_cumulative_returns.hvplot(\n",
    "    title='Lending (LendingTree, LendingClub, Black Knight) Cumulative Returns 2017-2022',\n",
    "    frame_width=1000,\n",
    "    frame_height=600,\n",
    "    group_label='Stock Ticker'\n",
    ")\n",
    "\n",
    "lending_cumulative_plot"
   ]
  },
  {
   "cell_type": "code",
   "execution_count": null,
   "id": "ec18c27f-42d7-43cf-9ec9-9f7374dca4d2",
   "metadata": {},
   "outputs": [],
   "source": [
    "banking_cumulative_plot = banking_cumulative_returns.hvplot(\n",
    "    title='Banking (Fiserv, Jack Henry & Associates, FIS) Cumulative Returns 2017-2022',\n",
    "    frame_width=1000,\n",
    "    frame_height=600,\n",
    "    group_label='Stock Ticker'\n",
    ")\n",
    "\n",
    "banking_cumulative_plot"
   ]
  },
  {
   "cell_type": "code",
   "execution_count": null,
   "id": "4bc3456a-eaeb-49b6-a98e-f8c2c3b9addf",
   "metadata": {},
   "outputs": [],
   "source": [
    "# combine the sector cumulative return plots in an overlay plot\n",
    "cumulative_overlay_plot = paytech_cumulative_plot * lending_cumulative_plot * banking_cumulative_plot\n",
    "cumulative_overlay_plot.opts(title='Cumulative Returns for Paytech, Lending, and Banking Sectors 2017-2022')"
   ]
  },
  {
   "cell_type": "markdown",
   "id": "fdd93572",
   "metadata": {},
   "source": [
    "## Calculate and plot 21-Day Rolling Average and Standard Deviation for each sector"
   ]
  },
  {
   "cell_type": "code",
   "execution_count": null,
   "id": "bafe8615",
   "metadata": {},
   "outputs": [],
   "source": [
    "paytech_rolling_mean = paytech_daily_returns.rolling(window=21).mean().hvplot(\n",
    "    frame_width=1000,\n",
    "    frame_height=600, \n",
    "    title = \"Paytech Daily Prices - 21-Day Rolling Average\")\n",
    "\n",
    "paytech_rolling_stdev = paytech_daily_returns.rolling(window=21).std().hvplot( \n",
    "    frame_width=1000,\n",
    "    frame_height=600, \n",
    "    title = \"Paytech Daily Prices - 21-Day Rolling Standard Deviation\")\n",
    "\n",
    "display(paytech_rolling_mean)\n",
    "display(paytech_rolling_stdev)"
   ]
  },
  {
   "cell_type": "code",
   "execution_count": null,
   "id": "ed4db6f0",
   "metadata": {},
   "outputs": [],
   "source": [
    "lending_rolling_mean = lending_daily_returns.rolling(window=21).mean().hvplot(\n",
    "    frame_width=1000,\n",
    "    frame_height=600, \n",
    "    title = \"Lending Daily Prices - 21-Day Rolling Average\")\n",
    "\n",
    "lending_rolling_stdev = lending_daily_returns.rolling(window=21).std().hvplot( \n",
    "    frame_width=1000,\n",
    "    frame_height=600, \n",
    "    title = \"Lending Daily Prices - 21-Day Rolling Standard Deviation\")\n",
    "\n",
    "display(lending_rolling_mean)\n",
    "display(lending_rolling_stdev)"
   ]
  },
  {
   "cell_type": "code",
   "execution_count": null,
   "id": "a80fd8de",
   "metadata": {},
   "outputs": [],
   "source": [
    "banking_rolling_mean = banking_daily_returns.rolling(window=21).mean().hvplot(\n",
    "    frame_width=1000,\n",
    "    frame_height=600, \n",
    "    title = \"Lending Daily Prices - 21-Day Rolling Average\")\n",
    "\n",
    "banking_rolling_stdev = banking_daily_returns.rolling(window=21).std().hvplot( \n",
    "    frame_width=1000,\n",
    "    frame_height=600, \n",
    "    title = \"Lending Daily Prices - 21-Day Rolling Standard Deviation\")\n",
    "\n",
    "display(banking_rolling_mean)\n",
    "display(banking_rolling_stdev)"
   ]
  },
  {
   "cell_type": "markdown",
   "id": "69fa0f57-0469-496d-9781-99d040c8892d",
   "metadata": {},
   "source": [
    "# Monte Carlo Simulations"
   ]
  },
  {
   "cell_type": "markdown",
   "id": "5467bf4f-f759-43f8-a28a-35fe5a1af022",
   "metadata": {},
   "source": [
    "## Reformat sector DataFrames to be usable by MCSimulation module"
   ]
  },
  {
   "cell_type": "code",
   "execution_count": null,
   "id": "b67a1aa4-7266-455f-be7c-ebd74c2e7530",
   "metadata": {},
   "outputs": [],
   "source": [
    "def get_data_for_mcsim(yf_tickers, ticker_names, period):\n",
    "    \"\"\"\n",
    "    Returns a DataFrame with multi-level column names as required by the MCSimulation module \n",
    "    \n",
    "    Parameters\n",
    "    ----------\n",
    "    yf_tickers: yfinance.Tickers()\n",
    "        a yfinance Tickers object containing desired stocks\n",
    "    ticker_names: list(str)\n",
    "        a python list of ticker strings, assumes that the length of the list is equal to the number of stocks in yf_tickers\n",
    "    period: str\n",
    "        a python string that correlates to yfinance.Tickers() period parameter (ex: '1d', '2m', '5y', etc.)\n",
    "        \n",
    "    Returns\n",
    "    -------\n",
    "    pandas.DataFrame\n",
    "        concatenated DataFrame where the first level of columns is the stock ticker and the second is each stock's OHLCV data\n",
    "    \n",
    "    \"\"\"\n",
    "    \n",
    "    stock_dfs = []\n",
    "    \n",
    "    for ticker in ticker_names:\n",
    "        # add the full DataFrame, except for extraneous columns, to list for concat\n",
    "        stock_dfs.append(yf_tickers.tickers[ticker].history(period=period).drop(['Dividends', 'Stock Splits'], axis=1))\n",
    "    \n",
    "    mc_data_df = pd.concat(stock_dfs, axis=1, keys=ticker_names)\n",
    "\n",
    "    # rename Close to lower case so MCSimulation can select it \n",
    "    mc_data_df = mc_data_df.rename(columns={'Close': 'close'})\n",
    "    \n",
    "    display(mc_data_df.head())\n",
    "    display(mc_data_df.tail())\n",
    "    \n",
    "    return mc_data_df"
   ]
  },
  {
   "cell_type": "code",
   "execution_count": null,
   "id": "85ff7b84-654e-4030-98de-9b4b295030b8",
   "metadata": {},
   "outputs": [],
   "source": [
    "# format data for Paytech sector\n",
    "paytech_df = get_data_for_mcsim(paytech_tickers, paytech_ticker_names, '5y')"
   ]
  },
  {
   "cell_type": "code",
   "execution_count": null,
   "id": "e3196044-99df-4cce-abd8-e7765a10941a",
   "metadata": {},
   "outputs": [],
   "source": [
    "# format data for lending sector\n",
    "lending_df = get_data_for_mcsim(lending_tickers, lending_ticker_names, '5y')"
   ]
  },
  {
   "cell_type": "code",
   "execution_count": null,
   "id": "145db22e-2b58-4cb6-84b5-2d40e4210b4d",
   "metadata": {},
   "outputs": [],
   "source": [
    "banking_df = get_data_for_mcsim(banking_tickers, banking_ticker_names, '5y')"
   ]
  },
  {
   "cell_type": "code",
   "execution_count": null,
   "id": "d9ba9be9-1d05-460d-800a-6c9d011d397b",
   "metadata": {},
   "outputs": [],
   "source": [
    "# create MCSimulation object\n",
    "mc_test_paytech = MCSimulation(\n",
    "    portfolio_data=paytech_df,\n",
    "    weights=[.33, .33, .33],\n",
    "    num_simulation=500,\n",
    "    num_trading_days=252*5\n",
    ")"
   ]
  },
  {
   "cell_type": "code",
   "execution_count": null,
   "id": "8d7a8540-3cd9-4030-870c-9af138951912",
   "metadata": {},
   "outputs": [],
   "source": [
    "mc_test_paytech.calc_cumulative_return()"
   ]
  },
  {
   "cell_type": "code",
   "execution_count": null,
   "id": "80d92a6b-810b-4817-be2c-051231771ad8",
   "metadata": {},
   "outputs": [],
   "source": [
    "mc_test_paytech.plot_simulation()"
   ]
  },
  {
   "cell_type": "code",
   "execution_count": null,
   "id": "6ae8e515-9b7d-4560-9b08-7b91ed405494",
   "metadata": {},
   "outputs": [],
   "source": []
  },
  {
   "cell_type": "code",
   "execution_count": null,
   "id": "0d0dca2d-4237-4704-ae97-7c1afbf35951",
   "metadata": {},
   "outputs": [],
   "source": [
    "mc_test_banking = MCSimulation(\n",
    "    portfolio_data=banking_df,\n",
    "    weights=[.33, .33, .33],\n",
    "    num_simulation=500,\n",
    "    num_trading_days=252*5\n",
    ")"
   ]
  },
  {
   "cell_type": "code",
   "execution_count": null,
   "id": "7d12b946-fd5f-4868-ac5e-65cda5af5bc6",
   "metadata": {},
   "outputs": [],
   "source": [
    "mc_test_banking.calc_cumulative_return()"
   ]
  },
  {
   "cell_type": "code",
   "execution_count": null,
   "id": "fc3d1b40-efa7-46f7-85c8-3c5bca8bc75e",
   "metadata": {},
   "outputs": [],
   "source": [
    "mc_test_banking.plot_simulation()"
   ]
  },
  {
   "cell_type": "code",
   "execution_count": null,
   "id": "d671f964-e0bf-4c02-8496-ebbaff107d53",
   "metadata": {},
   "outputs": [],
   "source": []
  },
  {
   "cell_type": "code",
   "execution_count": null,
   "id": "32c6ddf1-6812-44c2-b3a2-ec4874948e3d",
   "metadata": {},
   "outputs": [],
   "source": [
    "mc_test_lending = MCSimulation(\n",
    "    portfolio_data=lending_df,\n",
    "    weights=[.33, .33, .33],\n",
    "    num_simulation=500,\n",
    "    num_trading_days=252*5\n",
    ")"
   ]
  },
  {
   "cell_type": "code",
   "execution_count": null,
   "id": "c261fed1-dd29-44fd-be25-a18e68ea033c",
   "metadata": {},
   "outputs": [],
   "source": [
    "mc_test_lending.calc_cumulative_return()"
   ]
  },
  {
   "cell_type": "code",
   "execution_count": null,
   "id": "9c918c9a-96f2-495a-b048-902bee9f48aa",
   "metadata": {},
   "outputs": [],
   "source": [
    "mc_test_lending.plot_simulation()"
   ]
  },
  {
   "cell_type": "code",
   "execution_count": null,
   "id": "c0929cdb-5af5-485b-82f5-59dba939436c",
   "metadata": {},
   "outputs": [],
   "source": [
    "#"
   ]
  },
  {
   "cell_type": "code",
   "execution_count": null,
   "id": "1b47b293-9b0e-4d2a-b64d-c750d26e409e",
   "metadata": {},
   "outputs": [],
   "source": []
  },
  {
   "cell_type": "code",
   "execution_count": null,
   "id": "c8e80d3a-adb5-4936-a4e7-b48f5b9d1168",
   "metadata": {},
   "outputs": [],
   "source": [
    "mc_test_paytech2 = MCSimulation(\n",
    "    portfolio_data=paytech_df,\n",
    "    weights=[.50, .20, .30],\n",
    "    num_simulation=500,\n",
    "    num_trading_days=252*5\n",
    ")"
   ]
  },
  {
   "cell_type": "code",
   "execution_count": null,
   "id": "8b2e67d2-1d78-4c13-be0d-f4b0c814001e",
   "metadata": {},
   "outputs": [],
   "source": [
    "mc_test_paytech2.calc_cumulative_return()"
   ]
  },
  {
   "cell_type": "code",
   "execution_count": null,
   "id": "29f584dd-a92a-4664-bf43-f84b786cc708",
   "metadata": {},
   "outputs": [],
   "source": [
    "mc_test_paytech2.plot_simulation()"
   ]
  },
  {
   "cell_type": "code",
   "execution_count": null,
   "id": "669dacd1-20b9-4f61-abbc-ae46ffe838b8",
   "metadata": {},
   "outputs": [],
   "source": [
    "mc_test_banking2 = MCSimulation(\n",
    "    portfolio_data=banking_df,\n",
    "    weights=[.50, .20, .30],\n",
    "    num_simulation=500,\n",
    "    num_trading_days=252*5\n",
    ")"
   ]
  },
  {
   "cell_type": "code",
   "execution_count": null,
   "id": "6b730520-49cf-4ee9-b1b5-0f3818200982",
   "metadata": {},
   "outputs": [],
   "source": [
    "mc_test_banking2.calc_cumulative_return()"
   ]
  },
  {
   "cell_type": "code",
   "execution_count": null,
   "id": "fd400763-b798-46c6-93bb-dd5d01e0bc10",
   "metadata": {},
   "outputs": [],
   "source": [
    "mc_test_banking2.plot_simulation()"
   ]
  },
  {
   "cell_type": "code",
   "execution_count": null,
   "id": "1e110b32-559e-4dbd-af75-f1a9ca2873c3",
   "metadata": {},
   "outputs": [],
   "source": []
  },
  {
   "cell_type": "code",
   "execution_count": null,
   "id": "edc69b4a-5875-4102-a9c6-2f5c4cb227c3",
   "metadata": {},
   "outputs": [],
   "source": [
    "mc_test_lending2 = MCSimulation(\n",
    "    portfolio_data=lending_df,\n",
    "    weights=[.50,.20, .30],\n",
    "    num_simulation=500,\n",
    "    num_trading_days=252*5\n",
    ")"
   ]
  },
  {
   "cell_type": "code",
   "execution_count": null,
   "id": "d6c1d651-07f5-4aac-9693-dcd29e4326ee",
   "metadata": {},
   "outputs": [],
   "source": [
    "mc_test_lending2.calc_cumulative_return()"
   ]
  },
  {
   "cell_type": "code",
   "execution_count": null,
   "id": "ce730689-f52d-4427-9e1e-a0a6ce8cfd57",
   "metadata": {},
   "outputs": [],
   "source": [
    "mc_test_lending2.plot_simulation()"
   ]
  },
  {
   "cell_type": "code",
   "execution_count": null,
   "id": "f4e3718d-4b8a-4942-bc17-6ff2fe8f8169",
   "metadata": {},
   "outputs": [],
   "source": []
  },
  {
   "cell_type": "code",
   "execution_count": null,
   "id": "e064f698-60cb-4071-bfb4-d3cfd2b2f587",
   "metadata": {},
   "outputs": [],
   "source": [
    "mc_1y_test_paytech2 = MCSimulation(\n",
    "    portfolio_data=paytech_df,\n",
    "    weights=[.33, .33, .33],\n",
    "    num_simulation=500,\n",
    "    num_trading_days=252*1\n",
    ")"
   ]
  },
  {
   "cell_type": "code",
   "execution_count": null,
   "id": "a326b556-a21b-40f6-ba16-7c333e0c6f97",
   "metadata": {},
   "outputs": [],
   "source": [
    "mc_1y_test_paytech2.calc_cumulative_return()"
   ]
  },
  {
   "cell_type": "code",
   "execution_count": null,
   "id": "db8dbdec-2e16-4bd1-bbd7-e400980eed31",
   "metadata": {},
   "outputs": [],
   "source": [
    "mc_1y_test_paytech2.plot_simulation()"
   ]
  },
  {
   "cell_type": "code",
   "execution_count": null,
   "id": "393a7370-48f6-4dd1-b85e-1355767ab5c7",
   "metadata": {},
   "outputs": [],
   "source": [
    "mc_1y_test_banking2 = MCSimulation(\n",
    "    portfolio_data=banking_df,\n",
    "    weights=[.33, .33, .33],\n",
    "    num_simulation=500,\n",
    "    num_trading_days=252*1\n",
    ")"
   ]
  },
  {
   "cell_type": "code",
   "execution_count": null,
   "id": "7a46c8b8-5e89-481a-9f0d-3ae91a59531c",
   "metadata": {},
   "outputs": [],
   "source": [
    "mc_1y_test_banking2.calc_cumulative_return()"
   ]
  },
  {
   "cell_type": "code",
   "execution_count": null,
   "id": "4a63a31b-8f9b-4930-aa03-7ccabb911215",
   "metadata": {},
   "outputs": [],
   "source": [
    "mc_1y_test_banking2.plot_simulation()"
   ]
  },
  {
   "cell_type": "code",
   "execution_count": null,
   "id": "ef458e7c-1b5f-43f6-bf14-1f854869ad8d",
   "metadata": {},
   "outputs": [],
   "source": [
    "mc_1y_test_lending2 = MCSimulation(\n",
    "    portfolio_data=lending_df,\n",
    "    weights=[.33, .33, .33],\n",
    "    num_simulation=500,\n",
    "    num_trading_days=252*1\n",
    ")"
   ]
  },
  {
   "cell_type": "code",
   "execution_count": null,
   "id": "9c8df4ad-5659-4412-9057-4bc2e7b70339",
   "metadata": {},
   "outputs": [],
   "source": [
    "mc_1y_test_lending2.calc_cumulative_return()"
   ]
  },
  {
   "cell_type": "code",
   "execution_count": null,
   "id": "097ae70c-9fbd-48e6-a2e5-3c5e4338aea2",
   "metadata": {},
   "outputs": [],
   "source": [
    "mc_test_lending2.plot_simulation()"
   ]
  },
  {
   "cell_type": "code",
   "execution_count": null,
   "id": "eb31dff9-1c22-49bc-b0ff-9d3c6efb9740",
   "metadata": {},
   "outputs": [],
   "source": []
  },
  {
   "cell_type": "code",
   "execution_count": null,
   "id": "61a21222-77b2-44b2-a2ca-333a4ba61c64",
   "metadata": {},
   "outputs": [],
   "source": []
  },
  {
   "cell_type": "code",
   "execution_count": null,
   "id": "1e0e9cb5-5069-4988-bad2-5d48f71e91fd",
   "metadata": {},
   "outputs": [],
   "source": []
  }
 ],
 "metadata": {
  "kernelspec": {
   "display_name": "dev",
   "language": "python",
   "name": "dev"
  },
  "language_info": {
   "codemirror_mode": {
    "name": "ipython",
    "version": 3
   },
   "file_extension": ".py",
   "mimetype": "text/x-python",
   "name": "python",
   "nbconvert_exporter": "python",
   "pygments_lexer": "ipython3",
   "version": "3.7.13"
  },
  "vscode": {
   "interpreter": {
    "hash": "8a44067d8d8a94693ec4240f2d9ac3112ab332e315a52748b6eeb3dfd499b4f9"
   }
  }
 },
 "nbformat": 4,
 "nbformat_minor": 5
}
